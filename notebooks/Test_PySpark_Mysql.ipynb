{
 "cells": [
  {
   "cell_type": "markdown",
   "metadata": {},
   "source": [
    "# Connect Spark to MYSQL"
   ]
  },
  {
   "cell_type": "code",
   "execution_count": 23,
   "metadata": {},
   "outputs": [],
   "source": [
    "import os\n",
    "\n",
    "#os.environ[\"JAVA_HOME\"] = \"/usr/lib/jvm/java-8-openjdk-amd64\"\n",
    "os.environ[\"SPARK_HOME\"] = \"/opt/spark-3.1.2-bin-hadoop3.2\"\n",
    "os.environ[\"PYSPARK_SUBMIT_ARGS\"] = \"--packages mysql:mysql-connector-java:5.1.46 pyspark-shell\"\n",
    "\n",
    "import findspark\n",
    "findspark.init()"
   ]
  },
  {
   "cell_type": "code",
   "execution_count": 24,
   "metadata": {},
   "outputs": [],
   "source": [
    "from pyspark import SparkConf, SparkContext\n",
    "from pyspark.sql import SparkSession\n",
    "from pyspark.sql import SQLContext\n",
    "\n",
    "# Create SparkContext and SQLContext\n",
    "appName = \"PySpark Mysql App\"\n",
    "conf = SparkConf().setAppName(appName)\n",
    "sc = SparkContext(conf=conf)\n",
    "sqlContext = SQLContext(sc)"
   ]
  },
  {
   "cell_type": "markdown",
   "metadata": {},
   "source": [
    "## Connect using Properties Configuration"
   ]
  },
  {
   "cell_type": "code",
   "execution_count": 32,
   "metadata": {},
   "outputs": [],
   "source": [
    "# Config\n",
    "host = '127.0.0.1'\n",
    "database = 'f1db'\n",
    "table = 'drivers'\n",
    "url='jdbc:mysql://{}:3306/{}?useSSL=false'.format(host, database)\n",
    "properties = {\n",
    "    'user': 'root',\n",
    "    'password': 'Welcome1#',\n",
    "    'driver': 'com.mysql.jdbc.Driver'\n",
    "}"
   ]
  },
  {
   "cell_type": "markdown",
   "metadata": {},
   "source": [
    "## Connect using the standard \"format\" configuration"
   ]
  },
  {
   "cell_type": "code",
   "execution_count": 29,
   "metadata": {},
   "outputs": [],
   "source": [
    "# Note: JDBC loading and saving can be achieved via either the load/save or jdbc methods\n",
    "# Loading data from a JDBC source\n",
    "# useUnicode=true&characterEncoding=UTF-8&autoReconnect=true\n",
    "jdbcDF = sqlContext.read \\\n",
    "    .format(\"jdbc\") \\\n",
    "    .option(\"url\", \"jdbc:mysql://127.0.0.1:3306/f1db?useSSL=false\") \\\n",
    "    .option(\"driver\", \"com.mysql.jdbc.Driver\") \\\n",
    "    .option(\"dbtable\", \"drivers\") \\\n",
    "    .option(\"user\", \"root\") \\\n",
    "    .option(\"password\", \"Welcome1#\") \\\n",
    "    .load()"
   ]
  },
  {
   "cell_type": "code",
   "execution_count": 33,
   "metadata": {},
   "outputs": [
    {
     "name": "stdout",
     "output_type": "stream",
     "text": [
      "+--------+----------+------+----+---------+----------+----------+-----------+--------------------+\n",
      "|driverId| driverRef|number|code| forename|   surname|       dob|nationality|                 url|\n",
      "+--------+----------+------+----+---------+----------+----------+-----------+--------------------+\n",
      "|       1|  hamilton|    44| HAM|    Lewis|  Hamilton|1985-01-07|    British|http://en.wikiped...|\n",
      "|       2|  heidfeld|  null| HEI|     Nick|  Heidfeld|1977-05-10|     German|http://en.wikiped...|\n",
      "|       3|   rosberg|     6| ROS|     Nico|   Rosberg|1985-06-27|     German|http://en.wikiped...|\n",
      "|       4|    alonso|    14| ALO| Fernando|    Alonso|1981-07-29|    Spanish|http://en.wikiped...|\n",
      "|       5|kovalainen|  null| KOV|   Heikki|Kovalainen|1981-10-19|    Finnish|http://en.wikiped...|\n",
      "|       6|  nakajima|  null| NAK|   Kazuki|  Nakajima|1985-01-11|   Japanese|http://en.wikiped...|\n",
      "|       7|  bourdais|  null| BOU|Sébastien|  Bourdais|1979-02-28|     French|http://en.wikiped...|\n",
      "|       8| raikkonen|     7| RAI|     Kimi| Räikkönen|1979-10-17|    Finnish|http://en.wikiped...|\n",
      "|       9|    kubica|    88| KUB|   Robert|    Kubica|1984-12-07|     Polish|http://en.wikiped...|\n",
      "|      10|     glock|  null| GLO|     Timo|     Glock|1982-03-18|     German|http://en.wikiped...|\n",
      "|      11|      sato|  null| SAT|   Takuma|      Sato|1977-01-28|   Japanese|http://en.wikiped...|\n",
      "|      12| piquet_jr|  null| PIQ|   Nelson|Piquet Jr.|1985-07-25|  Brazilian|http://en.wikiped...|\n",
      "|      13|     massa|    19| MAS|   Felipe|     Massa|1981-04-25|  Brazilian|http://en.wikiped...|\n",
      "|      14| coulthard|  null| COU|    David| Coulthard|1971-03-27|    British|http://en.wikiped...|\n",
      "|      15|    trulli|  null| TRU|    Jarno|    Trulli|1974-07-13|    Italian|http://en.wikiped...|\n",
      "|      16|     sutil|    99| SUT|   Adrian|     Sutil|1983-01-11|     German|http://en.wikiped...|\n",
      "|      17|    webber|  null| WEB|     Mark|    Webber|1976-08-27| Australian|http://en.wikiped...|\n",
      "|      18|    button|    22| BUT|   Jenson|    Button|1980-01-19|    British|http://en.wikiped...|\n",
      "|      19|  davidson|  null| DAV|  Anthony|  Davidson|1979-04-18|    British|http://en.wikiped...|\n",
      "|      20|    vettel|     5| VET|Sebastian|    Vettel|1987-07-03|     German|http://en.wikiped...|\n",
      "+--------+----------+------+----+---------+----------+----------+-----------+--------------------+\n",
      "only showing top 20 rows\n",
      "\n"
     ]
    }
   ],
   "source": [
    "df = sqlContext.read.jdbc(url, table, properties=properties)\n",
    "df.show()"
   ]
  },
  {
   "cell_type": "markdown",
   "metadata": {},
   "source": [
    "## Stop Spark session"
   ]
  },
  {
   "cell_type": "code",
   "execution_count": 22,
   "metadata": {},
   "outputs": [],
   "source": [
    "sc.stop()"
   ]
  },
  {
   "cell_type": "code",
   "execution_count": null,
   "metadata": {},
   "outputs": [],
   "source": []
  }
 ],
 "metadata": {
  "kernelspec": {
   "display_name": "Python 3",
   "language": "python",
   "name": "python3"
  },
  "language_info": {
   "codemirror_mode": {
    "name": "ipython",
    "version": 3
   },
   "file_extension": ".py",
   "mimetype": "text/x-python",
   "name": "python",
   "nbconvert_exporter": "python",
   "pygments_lexer": "ipython3",
   "version": "3.7.6"
  }
 },
 "nbformat": 4,
 "nbformat_minor": 4
}
